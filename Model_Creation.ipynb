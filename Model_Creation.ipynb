{
 "cells": [
  {
   "cell_type": "code",
   "execution_count": 1,
   "metadata": {},
   "outputs": [],
   "source": [
    "import pandas as pd\n",
    "from keras.models import Sequential\n",
    "from keras.layers import *\n"
   ]
  },
  {
   "cell_type": "code",
   "execution_count": 2,
   "metadata": {},
   "outputs": [],
   "source": [
    "train_df = pd.read_csv(\"sales_data_train_scaled.csv\")"
   ]
  },
  {
   "cell_type": "code",
   "execution_count": 3,
   "metadata": {},
   "outputs": [],
   "source": [
    "x_train = train_df.drop(['total_earnings'],axis=1)\n",
    "y_train = train_df['total_earnings']"
   ]
  },
  {
   "cell_type": "code",
   "execution_count": 4,
   "metadata": {},
   "outputs": [
    {
     "data": {
      "text/plain": [
       "(1000, 9)"
      ]
     },
     "execution_count": 4,
     "metadata": {},
     "output_type": "execute_result"
    }
   ],
   "source": [
    "x_train.shape"
   ]
  },
  {
   "cell_type": "code",
   "execution_count": 5,
   "metadata": {},
   "outputs": [
    {
     "data": {
      "text/plain": [
       "(1000,)"
      ]
     },
     "execution_count": 5,
     "metadata": {},
     "output_type": "execute_result"
    }
   ],
   "source": [
    "y_train.shape"
   ]
  },
  {
   "cell_type": "code",
   "execution_count": 6,
   "metadata": {},
   "outputs": [],
   "source": [
    "#create model neural network\n",
    "model = Sequential()\n",
    "model.add(Dense(50, input_dim=9, activation='relu'))\n",
    "model.add(Dense(100, activation='relu'))\n",
    "model.add(Dense(50,activation='relu'))\n",
    "model.add(Dense(1,activation='linear'))\n",
    "model.compile(loss='mean_squared_error', optimizer='adam')"
   ]
  },
  {
   "cell_type": "code",
   "execution_count": 8,
   "metadata": {},
   "outputs": [
    {
     "name": "stdout",
     "output_type": "stream",
     "text": [
      "Epoch 1/50\n",
      "32/32 - 0s - loss: 0.0158\n",
      "Epoch 2/50\n",
      "32/32 - 0s - loss: 0.0021\n",
      "Epoch 3/50\n",
      "32/32 - 0s - loss: 0.0011\n",
      "Epoch 4/50\n",
      "32/32 - 0s - loss: 5.9698e-04\n",
      "Epoch 5/50\n",
      "32/32 - 0s - loss: 3.8226e-04\n",
      "Epoch 6/50\n",
      "32/32 - 0s - loss: 2.4540e-04\n",
      "Epoch 7/50\n",
      "32/32 - 0s - loss: 1.8679e-04\n",
      "Epoch 8/50\n",
      "32/32 - 0s - loss: 1.4530e-04\n",
      "Epoch 9/50\n",
      "32/32 - 0s - loss: 1.2770e-04\n",
      "Epoch 10/50\n",
      "32/32 - 0s - loss: 9.4855e-05\n",
      "Epoch 11/50\n",
      "32/32 - 0s - loss: 7.9800e-05\n",
      "Epoch 12/50\n",
      "32/32 - 0s - loss: 7.6788e-05\n",
      "Epoch 13/50\n",
      "32/32 - 0s - loss: 6.6363e-05\n",
      "Epoch 14/50\n",
      "32/32 - 0s - loss: 5.8485e-05\n",
      "Epoch 15/50\n",
      "32/32 - 0s - loss: 5.0624e-05\n",
      "Epoch 16/50\n",
      "32/32 - 0s - loss: 4.2763e-05\n",
      "Epoch 17/50\n",
      "32/32 - 0s - loss: 5.1197e-05\n",
      "Epoch 18/50\n",
      "32/32 - 0s - loss: 5.2231e-05\n",
      "Epoch 19/50\n",
      "32/32 - 0s - loss: 4.5605e-05\n",
      "Epoch 20/50\n",
      "32/32 - 0s - loss: 3.4222e-05\n",
      "Epoch 21/50\n",
      "32/32 - 0s - loss: 3.4689e-05\n",
      "Epoch 22/50\n",
      "32/32 - 0s - loss: 3.3924e-05\n",
      "Epoch 23/50\n",
      "32/32 - 0s - loss: 3.3976e-05\n",
      "Epoch 24/50\n",
      "32/32 - 0s - loss: 3.4482e-05\n",
      "Epoch 25/50\n",
      "32/32 - 0s - loss: 2.8320e-05\n",
      "Epoch 26/50\n",
      "32/32 - 0s - loss: 3.3530e-05\n",
      "Epoch 27/50\n",
      "32/32 - 0s - loss: 2.6622e-05\n",
      "Epoch 28/50\n",
      "32/32 - 0s - loss: 2.6775e-05\n",
      "Epoch 29/50\n",
      "32/32 - 0s - loss: 3.3081e-05\n",
      "Epoch 30/50\n",
      "32/32 - 0s - loss: 3.3746e-05\n",
      "Epoch 31/50\n",
      "32/32 - 0s - loss: 2.9171e-05\n",
      "Epoch 32/50\n",
      "32/32 - 0s - loss: 2.8829e-05\n",
      "Epoch 33/50\n",
      "32/32 - 0s - loss: 3.5675e-05\n",
      "Epoch 34/50\n",
      "32/32 - 0s - loss: 2.5383e-05\n",
      "Epoch 35/50\n",
      "32/32 - 0s - loss: 2.2737e-05\n",
      "Epoch 36/50\n",
      "32/32 - 0s - loss: 3.0480e-05\n",
      "Epoch 37/50\n",
      "32/32 - 0s - loss: 4.4384e-05\n",
      "Epoch 38/50\n",
      "32/32 - 0s - loss: 4.0914e-05\n",
      "Epoch 39/50\n",
      "32/32 - 0s - loss: 3.1827e-05\n",
      "Epoch 40/50\n",
      "32/32 - 0s - loss: 2.5064e-05\n",
      "Epoch 41/50\n",
      "32/32 - 0s - loss: 3.2235e-05\n",
      "Epoch 42/50\n",
      "32/32 - 0s - loss: 4.9926e-05\n",
      "Epoch 43/50\n",
      "32/32 - 0s - loss: 2.9915e-05\n",
      "Epoch 44/50\n",
      "32/32 - 0s - loss: 2.5665e-05\n",
      "Epoch 45/50\n",
      "32/32 - 0s - loss: 3.0586e-05\n",
      "Epoch 46/50\n",
      "32/32 - 0s - loss: 2.7547e-05\n",
      "Epoch 47/50\n",
      "32/32 - 0s - loss: 2.9754e-05\n",
      "Epoch 48/50\n",
      "32/32 - 0s - loss: 2.8508e-05\n",
      "Epoch 49/50\n",
      "32/32 - 0s - loss: 3.0337e-05\n",
      "Epoch 50/50\n",
      "32/32 - 0s - loss: 6.1306e-05\n"
     ]
    },
    {
     "data": {
      "text/plain": [
       "<tensorflow.python.keras.callbacks.History at 0x2334be8fb88>"
      ]
     },
     "execution_count": 8,
     "metadata": {},
     "output_type": "execute_result"
    }
   ],
   "source": [
    "#train neural network\n",
    "# define epochs - number of passes through the neural network\n",
    "model.fit(x_train,y_train,epochs=50, shuffle=True,verbose=2)"
   ]
  },
  {
   "cell_type": "code",
   "execution_count": 9,
   "metadata": {},
   "outputs": [],
   "source": [
    "#load test data\n",
    "test_df = pd.read_csv('sales_data_test_scaled.csv')\n",
    "x_test = test_df.drop(['total_earnings'],axis=1)\n",
    "y_test = test_df['total_earnings']"
   ]
  },
  {
   "cell_type": "code",
   "execution_count": 10,
   "metadata": {},
   "outputs": [],
   "source": [
    "#evaluate\n",
    "test_error_rate = model.evaluate(x_test,y_test,verbose=0)"
   ]
  },
  {
   "cell_type": "code",
   "execution_count": 11,
   "metadata": {},
   "outputs": [
    {
     "data": {
      "text/plain": [
       "9.458854037802666e-05"
      ]
     },
     "execution_count": 11,
     "metadata": {},
     "output_type": "execute_result"
    }
   ],
   "source": [
    "test_error_rate"
   ]
  },
  {
   "cell_type": "code",
   "execution_count": 12,
   "metadata": {},
   "outputs": [
    {
     "data": {
      "text/html": [
       "<div>\n",
       "<style scoped>\n",
       "    .dataframe tbody tr th:only-of-type {\n",
       "        vertical-align: middle;\n",
       "    }\n",
       "\n",
       "    .dataframe tbody tr th {\n",
       "        vertical-align: top;\n",
       "    }\n",
       "\n",
       "    .dataframe thead th {\n",
       "        text-align: right;\n",
       "    }\n",
       "</style>\n",
       "<table border=\"1\" class=\"dataframe\">\n",
       "  <thead>\n",
       "    <tr style=\"text-align: right;\">\n",
       "      <th></th>\n",
       "      <th>critic_rating</th>\n",
       "      <th>is_action</th>\n",
       "      <th>is_exclusive_to_us</th>\n",
       "      <th>is_portable</th>\n",
       "      <th>is_role_playing</th>\n",
       "      <th>is_sequel</th>\n",
       "      <th>is_sports</th>\n",
       "      <th>suitable_for_kids</th>\n",
       "      <th>unit_price</th>\n",
       "    </tr>\n",
       "  </thead>\n",
       "  <tbody>\n",
       "    <tr>\n",
       "      <th>0</th>\n",
       "      <td>0.7</td>\n",
       "      <td>1.0</td>\n",
       "      <td>1.0</td>\n",
       "      <td>1.0</td>\n",
       "      <td>0.0</td>\n",
       "      <td>1.0</td>\n",
       "      <td>0.0</td>\n",
       "      <td>1.0</td>\n",
       "      <td>0.8</td>\n",
       "    </tr>\n",
       "  </tbody>\n",
       "</table>\n",
       "</div>"
      ],
      "text/plain": [
       "   critic_rating  is_action  is_exclusive_to_us  is_portable  is_role_playing  \\\n",
       "0            0.7        1.0                 1.0          1.0              0.0   \n",
       "\n",
       "   is_sequel  is_sports  suitable_for_kids  unit_price  \n",
       "0        1.0        0.0                1.0         0.8  "
      ]
     },
     "execution_count": 12,
     "metadata": {},
     "output_type": "execute_result"
    }
   ],
   "source": [
    "#predict prices \n",
    "X = pd.read_csv('proposed_new_product.csv')\n",
    "X.head()"
   ]
  },
  {
   "cell_type": "code",
   "execution_count": 16,
   "metadata": {},
   "outputs": [],
   "source": [
    "prediction = model.predict(X)"
   ]
  },
  {
   "cell_type": "code",
   "execution_count": 17,
   "metadata": {},
   "outputs": [
    {
     "data": {
      "text/plain": [
       "array([[0.8556992]], dtype=float32)"
      ]
     },
     "execution_count": 17,
     "metadata": {},
     "output_type": "execute_result"
    }
   ],
   "source": [
    "prediction\n"
   ]
  },
  {
   "cell_type": "code",
   "execution_count": 18,
   "metadata": {},
   "outputs": [
    {
     "data": {
      "text/plain": [
       "0.8556992"
      ]
     },
     "execution_count": 18,
     "metadata": {},
     "output_type": "execute_result"
    }
   ],
   "source": [
    "prediction = prediction[0][0]\n",
    "prediction"
   ]
  },
  {
   "cell_type": "code",
   "execution_count": 19,
   "metadata": {},
   "outputs": [
    {
     "data": {
      "text/plain": [
       "262821.6786292744"
      ]
     },
     "execution_count": 19,
     "metadata": {},
     "output_type": "execute_result"
    }
   ],
   "source": [
    "#re-scale the data from 0-to-1 range back to dollars\n",
    "prediction = prediction + 0.1159\n",
    "prediction = prediction / 0.0000036968\n",
    "prediction"
   ]
  },
  {
   "cell_type": "code",
   "execution_count": 20,
   "metadata": {},
   "outputs": [],
   "source": [
    "#save keras model (h5 -> htf )\n",
    "model.save(\"trained_model.h5\")"
   ]
  },
  {
   "cell_type": "code",
   "execution_count": 22,
   "metadata": {},
   "outputs": [],
   "source": [
    "#load saved model\n",
    "from keras.models import load_model\n",
    "load_saved_model = load_model('trained_model.h5')"
   ]
  },
  {
   "cell_type": "code",
   "execution_count": 23,
   "metadata": {},
   "outputs": [
    {
     "data": {
      "text/html": [
       "<div>\n",
       "<style scoped>\n",
       "    .dataframe tbody tr th:only-of-type {\n",
       "        vertical-align: middle;\n",
       "    }\n",
       "\n",
       "    .dataframe tbody tr th {\n",
       "        vertical-align: top;\n",
       "    }\n",
       "\n",
       "    .dataframe thead th {\n",
       "        text-align: right;\n",
       "    }\n",
       "</style>\n",
       "<table border=\"1\" class=\"dataframe\">\n",
       "  <thead>\n",
       "    <tr style=\"text-align: right;\">\n",
       "      <th></th>\n",
       "      <th>critic_rating</th>\n",
       "      <th>is_action</th>\n",
       "      <th>is_exclusive_to_us</th>\n",
       "      <th>is_portable</th>\n",
       "      <th>is_role_playing</th>\n",
       "      <th>is_sequel</th>\n",
       "      <th>is_sports</th>\n",
       "      <th>suitable_for_kids</th>\n",
       "      <th>unit_price</th>\n",
       "    </tr>\n",
       "  </thead>\n",
       "  <tbody>\n",
       "    <tr>\n",
       "      <th>0</th>\n",
       "      <td>0.7</td>\n",
       "      <td>1.0</td>\n",
       "      <td>1.0</td>\n",
       "      <td>1.0</td>\n",
       "      <td>0.0</td>\n",
       "      <td>1.0</td>\n",
       "      <td>0.0</td>\n",
       "      <td>1.0</td>\n",
       "      <td>0.8</td>\n",
       "    </tr>\n",
       "  </tbody>\n",
       "</table>\n",
       "</div>"
      ],
      "text/plain": [
       "   critic_rating  is_action  is_exclusive_to_us  is_portable  is_role_playing  \\\n",
       "0            0.7        1.0                 1.0          1.0              0.0   \n",
       "\n",
       "   is_sequel  is_sports  suitable_for_kids  unit_price  \n",
       "0        1.0        0.0                1.0         0.8  "
      ]
     },
     "execution_count": 23,
     "metadata": {},
     "output_type": "execute_result"
    }
   ],
   "source": [
    "X1 = pd.read_csv('proposed_new_product.csv')\n",
    "X1.head()"
   ]
  },
  {
   "cell_type": "code",
   "execution_count": 24,
   "metadata": {},
   "outputs": [
    {
     "data": {
      "text/plain": [
       "array([[0.8556992]], dtype=float32)"
      ]
     },
     "execution_count": 24,
     "metadata": {},
     "output_type": "execute_result"
    }
   ],
   "source": [
    "prediction1 = model.predict(X)\n",
    "prediction1"
   ]
  },
  {
   "cell_type": "code",
   "execution_count": 25,
   "metadata": {},
   "outputs": [
    {
     "data": {
      "text/plain": [
       "0.8556992"
      ]
     },
     "execution_count": 25,
     "metadata": {},
     "output_type": "execute_result"
    }
   ],
   "source": [
    "prediction1 = prediction1[0][0]\n",
    "prediction1"
   ]
  },
  {
   "cell_type": "code",
   "execution_count": 26,
   "metadata": {},
   "outputs": [
    {
     "data": {
      "text/plain": [
       "262821.6786292744"
      ]
     },
     "execution_count": 26,
     "metadata": {},
     "output_type": "execute_result"
    }
   ],
   "source": [
    "#re-scale the data from 0-to-1 range back to dollars\n",
    "prediction1 = prediction1 + 0.1159\n",
    "prediction1 = prediction1 / 0.0000036968\n",
    "prediction1"
   ]
  }
 ],
 "metadata": {
  "kernelspec": {
   "display_name": "Python 3",
   "language": "python",
   "name": "python3"
  },
  "language_info": {
   "codemirror_mode": {
    "name": "ipython",
    "version": 3
   },
   "file_extension": ".py",
   "mimetype": "text/x-python",
   "name": "python",
   "nbconvert_exporter": "python",
   "pygments_lexer": "ipython3",
   "version": "3.7.4"
  }
 },
 "nbformat": 4,
 "nbformat_minor": 4
}
